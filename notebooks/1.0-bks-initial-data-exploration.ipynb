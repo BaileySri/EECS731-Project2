{
 "cells": [
  {
   "cell_type": "code",
   "execution_count": 1,
   "metadata": {},
   "outputs": [],
   "source": [
    "import pandas as pd\n",
    "import numpy as np"
   ]
  },
  {
   "cell_type": "markdown",
   "metadata": {},
   "source": [
    "Import RAW csv file downloaded from: https://www.kaggle.com/kingburrito666/shakespeare-plays"
   ]
  },
  {
   "cell_type": "code",
   "execution_count": 2,
   "metadata": {},
   "outputs": [],
   "source": [
    "df = pd.read_csv('../data/raw/Shakespeare_data.csv')"
   ]
  },
  {
   "cell_type": "markdown",
   "metadata": {},
   "source": [
    "Convert the 'Player' Column to string so we can remove the nan entries"
   ]
  },
  {
   "cell_type": "code",
   "execution_count": 3,
   "metadata": {},
   "outputs": [],
   "source": [
    "df['Player'] = df['Player'].astype(str)\n",
    "df['PlayerLine'] = df['PlayerLine'].astype(str)"
   ]
  },
  {
   "cell_type": "code",
   "execution_count": 4,
   "metadata": {},
   "outputs": [],
   "source": [
    "df = df[df.Player != 'nan']\n",
    "df['Player'] = df['Player'].replace(['OF SYRACUSE'], 'DROMIO OF SYRACUSE')\n",
    "df['Player'] = df['Player'].replace(['OF EPHESUS'], 'DROMIO OF EPHESUS')\n",
    "df['Player'] = df['Player'].replace(['OF WINCHESTER'], 'BISHOP OF WINCHESTER')"
   ]
  },
  {
   "cell_type": "markdown",
   "metadata": {},
   "source": [
    "Group the Dataframe by the Play and the Player and then save the number of rows related to that grouping.\n",
    "The grouping of Play and Player with size can be used to remove the lower 3/4 of players who have less than\n",
    "the upper 1/4 number of lines in a play. 3/4 of the possible classifications will be removed but a majority of\n",
    "which was comprised of one-off characters such as Murderer or Courier."
   ]
  },
  {
   "cell_type": "code",
   "execution_count": 5,
   "metadata": {},
   "outputs": [],
   "source": [
    "df_lines_by_player = df.groupby(['Play','Player']).size()"
   ]
  },
  {
   "cell_type": "code",
   "execution_count": 6,
   "metadata": {},
   "outputs": [],
   "source": [
    "valid_players = df_lines_by_player[df_lines_by_player > df_lines_by_player.quantile(.75)].index.get_level_values('Player').tolist()"
   ]
  },
  {
   "cell_type": "code",
   "execution_count": 7,
   "metadata": {},
   "outputs": [],
   "source": [
    "df = df[df.Player.isin(valid_players)]"
   ]
  },
  {
   "cell_type": "code",
   "execution_count": 8,
   "metadata": {},
   "outputs": [],
   "source": [
    "df['PlayerLine'] = df['PlayerLine'].str.split(' ',expand=True)"
   ]
  },
  {
   "cell_type": "code",
   "execution_count": 9,
   "metadata": {},
   "outputs": [],
   "source": [
    "df_occurence_of_words = df.groupby('Player')['PlayerLine'].value_counts()"
   ]
  },
  {
   "cell_type": "code",
   "execution_count": 10,
   "metadata": {},
   "outputs": [],
   "source": [
    "df = df_occurence_of_words.to_frame()"
   ]
  },
  {
   "cell_type": "code",
   "execution_count": 11,
   "metadata": {},
   "outputs": [],
   "source": [
    "df = df[df.PlayerLine > 1]"
   ]
  },
  {
   "cell_type": "markdown",
   "metadata": {},
   "source": [
    "Export the transformed data that contains Players with Word Counts to a csv\n",
    "at '../data/processed/Word_Counts.csv'. This CSV will be used in generating\n",
    "the Player prediction model."
   ]
  },
  {
   "cell_type": "code",
   "execution_count": 12,
   "metadata": {},
   "outputs": [],
   "source": [
    "df.to_csv('../data/processed/Word_Counts.csv')"
   ]
  },
  {
   "cell_type": "code",
   "execution_count": null,
   "metadata": {},
   "outputs": [],
   "source": []
  }
 ],
 "metadata": {
  "kernelspec": {
   "display_name": "Python 3",
   "language": "python",
   "name": "python3"
  },
  "language_info": {
   "codemirror_mode": {
    "name": "ipython",
    "version": 3
   },
   "file_extension": ".py",
   "mimetype": "text/x-python",
   "name": "python",
   "nbconvert_exporter": "python",
   "pygments_lexer": "ipython3",
   "version": "3.8.5"
  }
 },
 "nbformat": 4,
 "nbformat_minor": 4
}
