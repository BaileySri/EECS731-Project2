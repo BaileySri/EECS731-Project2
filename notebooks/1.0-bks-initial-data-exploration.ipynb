{
 "cells": [
  {
   "cell_type": "code",
   "execution_count": 1,
   "metadata": {},
   "outputs": [],
   "source": [
    "import pandas as pd\n",
    "import numpy as np"
   ]
  },
  {
   "cell_type": "markdown",
   "metadata": {},
   "source": [
    "Import RAW csv file downloaded from: https://www.kaggle.com/kingburrito666/shakespeare-plays"
   ]
  },
  {
   "cell_type": "code",
   "execution_count": 2,
   "metadata": {},
   "outputs": [],
   "source": [
    "df = pd.read_csv('../data/raw/Shakespeare_data.csv')"
   ]
  },
  {
   "cell_type": "markdown",
   "metadata": {},
   "source": [
    "Convert the 'Player' Column to string so we can remove the nan entries.\n",
    "Replace non-alpha-numeric characters in the character lines to aggregate\n",
    "words together such as 'You,' and 'You'"
   ]
  },
  {
   "cell_type": "code",
   "execution_count": 3,
   "metadata": {},
   "outputs": [],
   "source": [
    "df['Player'] = df['Player'].astype(str).str.replace('[^a-zA-Z ]', '')\n",
    "df['PlayerLine'] = df['PlayerLine'].astype(str).str.replace('[^a-zA-Z ]', '')\n",
    "df['ActSceneLine'] = df['ActSceneLine'].astype(str)"
   ]
  },
  {
   "cell_type": "markdown",
   "metadata": {},
   "source": [
    "Generate a Cleaned_Dataframe.csv for use in future notebooks to prevent copy and pasting of code"
   ]
  },
  {
   "cell_type": "code",
   "execution_count": 4,
   "metadata": {},
   "outputs": [],
   "source": [
    "df = df[df.Player != 'nan']\n",
    "df['Player'] = df['Player'].replace(['OF SYRACUSE'], 'DROMIO OF SYRACUSE')\n",
    "df['Player'] = df['Player'].replace(['OF EPHESUS'], 'DROMIO OF EPHESUS')\n",
    "df['Player'] = df['Player'].replace(['OF WINCHESTER'], 'BISHOP OF WINCHESTER')\n",
    "df['PlayerLine'] = df['PlayerLine'].str.split(' ',expand=True)\n",
    "df[['Act','Scene','Line']] = df.ActSceneLine.str.split(pat='.',expand=True)\n",
    "df = df.drop('ActSceneLine',1)\n",
    "df.to_csv('../data/processed/Cleaned_Dataframe.csv')"
   ]
  },
  {
   "cell_type": "markdown",
   "metadata": {},
   "source": [
    "Group the Dataframe by the Play and the Player and then save the number of rows related to that grouping.\n",
    "The grouping of Play and Player with size can be used to remove the lower 3/4 of players who have less than\n",
    "the upper 1/4 number of lines in a play. 3/4 of the possible classifications will be removed but a majority of\n",
    "which was comprised of one-off characters such as Murderer or Courier."
   ]
  },
  {
   "cell_type": "code",
   "execution_count": 5,
   "metadata": {},
   "outputs": [],
   "source": [
    "df_lines_by_player = df.groupby(['Play','Player']).size()"
   ]
  },
  {
   "cell_type": "code",
   "execution_count": 6,
   "metadata": {},
   "outputs": [],
   "source": [
    "valid_players = df_lines_by_player[df_lines_by_player > df_lines_by_player.quantile(.75)].index.get_level_values('Player').tolist()"
   ]
  },
  {
   "cell_type": "code",
   "execution_count": 7,
   "metadata": {},
   "outputs": [],
   "source": [
    "df = df[df.Player.isin(valid_players)]"
   ]
  },
  {
   "cell_type": "code",
   "execution_count": 8,
   "metadata": {},
   "outputs": [],
   "source": [
    "df['PlayerLine'] = df['PlayerLine'].str.split(' ',expand=True)"
   ]
  },
  {
   "cell_type": "code",
   "execution_count": 9,
   "metadata": {},
   "outputs": [],
   "source": [
    "df_occurence_of_words = df.groupby('Player')['PlayerLine'].value_counts()"
   ]
  },
  {
   "cell_type": "code",
   "execution_count": 10,
   "metadata": {},
   "outputs": [],
   "source": [
    "df = df_occurence_of_words.to_frame()"
   ]
  },
  {
   "cell_type": "code",
   "execution_count": 11,
   "metadata": {},
   "outputs": [],
   "source": [
    "df = df[df.PlayerLine > 1]"
   ]
  },
  {
   "cell_type": "markdown",
   "metadata": {},
   "source": [
    "Export the transformed data that contains Players with Word Counts to a csv\n",
    "at '../data/processed/Word_Counts.csv'. This CSV will be used in generating\n",
    "the Player prediction model."
   ]
  },
  {
   "cell_type": "code",
   "execution_count": 12,
   "metadata": {},
   "outputs": [],
   "source": [
    "df.to_csv('../data/processed/Word_Counts.csv')"
   ]
  },
  {
   "cell_type": "code",
   "execution_count": 13,
   "metadata": {},
   "outputs": [],
   "source": [
    "df = pd.read_csv('../data/processed/Word_Counts.csv')"
   ]
  },
  {
   "cell_type": "code",
   "execution_count": 14,
   "metadata": {},
   "outputs": [
    {
     "data": {
      "text/html": [
       "<div>\n",
       "<style scoped>\n",
       "    .dataframe tbody tr th:only-of-type {\n",
       "        vertical-align: middle;\n",
       "    }\n",
       "\n",
       "    .dataframe tbody tr th {\n",
       "        vertical-align: top;\n",
       "    }\n",
       "\n",
       "    .dataframe thead th {\n",
       "        text-align: right;\n",
       "    }\n",
       "</style>\n",
       "<table border=\"1\" class=\"dataframe\">\n",
       "  <thead>\n",
       "    <tr style=\"text-align: right;\">\n",
       "      <th></th>\n",
       "      <th>Player</th>\n",
       "      <th>PlayerLine</th>\n",
       "      <th>PlayerLine.1</th>\n",
       "    </tr>\n",
       "  </thead>\n",
       "  <tbody>\n",
       "    <tr>\n",
       "      <th>0</th>\n",
       "      <td>AARON</td>\n",
       "      <td>And</td>\n",
       "      <td>49</td>\n",
       "    </tr>\n",
       "    <tr>\n",
       "      <th>1</th>\n",
       "      <td>AARON</td>\n",
       "      <td>To</td>\n",
       "      <td>18</td>\n",
       "    </tr>\n",
       "    <tr>\n",
       "      <th>2</th>\n",
       "      <td>AARON</td>\n",
       "      <td>That</td>\n",
       "      <td>16</td>\n",
       "    </tr>\n",
       "    <tr>\n",
       "      <th>3</th>\n",
       "      <td>AARON</td>\n",
       "      <td>I</td>\n",
       "      <td>13</td>\n",
       "    </tr>\n",
       "    <tr>\n",
       "      <th>4</th>\n",
       "      <td>AARON</td>\n",
       "      <td>The</td>\n",
       "      <td>13</td>\n",
       "    </tr>\n",
       "    <tr>\n",
       "      <th>...</th>\n",
       "      <td>...</td>\n",
       "      <td>...</td>\n",
       "      <td>...</td>\n",
       "    </tr>\n",
       "    <tr>\n",
       "      <th>13875</th>\n",
       "      <td>YORK</td>\n",
       "      <td>Thus</td>\n",
       "      <td>2</td>\n",
       "    </tr>\n",
       "    <tr>\n",
       "      <th>13876</th>\n",
       "      <td>YORK</td>\n",
       "      <td>Thy</td>\n",
       "      <td>2</td>\n",
       "    </tr>\n",
       "    <tr>\n",
       "      <th>13877</th>\n",
       "      <td>YORK</td>\n",
       "      <td>Whiles</td>\n",
       "      <td>2</td>\n",
       "    </tr>\n",
       "    <tr>\n",
       "      <th>13878</th>\n",
       "      <td>YORK</td>\n",
       "      <td>Whom</td>\n",
       "      <td>2</td>\n",
       "    </tr>\n",
       "    <tr>\n",
       "      <th>13879</th>\n",
       "      <td>YORK</td>\n",
       "      <td>Wouldst</td>\n",
       "      <td>2</td>\n",
       "    </tr>\n",
       "  </tbody>\n",
       "</table>\n",
       "<p>13880 rows × 3 columns</p>\n",
       "</div>"
      ],
      "text/plain": [
       "      Player PlayerLine  PlayerLine.1\n",
       "0      AARON        And            49\n",
       "1      AARON         To            18\n",
       "2      AARON       That            16\n",
       "3      AARON          I            13\n",
       "4      AARON        The            13\n",
       "...      ...        ...           ...\n",
       "13875   YORK       Thus             2\n",
       "13876   YORK        Thy             2\n",
       "13877   YORK     Whiles             2\n",
       "13878   YORK       Whom             2\n",
       "13879   YORK    Wouldst             2\n",
       "\n",
       "[13880 rows x 3 columns]"
      ]
     },
     "execution_count": 14,
     "metadata": {},
     "output_type": "execute_result"
    }
   ],
   "source": [
    "df"
   ]
  },
  {
   "cell_type": "code",
   "execution_count": null,
   "metadata": {},
   "outputs": [],
   "source": []
  }
 ],
 "metadata": {
  "kernelspec": {
   "display_name": "Python 3",
   "language": "python",
   "name": "python3"
  },
  "language_info": {
   "codemirror_mode": {
    "name": "ipython",
    "version": 3
   },
   "file_extension": ".py",
   "mimetype": "text/x-python",
   "name": "python",
   "nbconvert_exporter": "python",
   "pygments_lexer": "ipython3",
   "version": "3.8.5"
  }
 },
 "nbformat": 4,
 "nbformat_minor": 4
}
